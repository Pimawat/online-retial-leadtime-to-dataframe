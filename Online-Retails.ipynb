{
 "cells": [
  {
   "cell_type": "code",
   "execution_count": 1,
   "metadata": {},
   "outputs": [],
   "source": [
    "import numpy as np\n",
    "import pandas as pd\n",
    "import datetime as dt\n"
   ]
  },
  {
   "cell_type": "code",
   "execution_count": 2,
   "metadata": {},
   "outputs": [
    {
     "name": "stdout",
     "output_type": "stream",
     "text": [
      "<class 'pandas.core.frame.DataFrame'>\n",
      "RangeIndex: 13 entries, 0 to 12\n",
      "Data columns (total 7 columns):\n",
      " #   Column       Non-Null Count  Dtype         \n",
      "---  ------       --------------  -----         \n",
      " 0   InvoiceID    13 non-null     int64         \n",
      " 1   Product      13 non-null     object        \n",
      " 2   Quantity     13 non-null     int64         \n",
      " 3   InvoiceDate  13 non-null     datetime64[ns]\n",
      " 4   UnitPrice    13 non-null     float64       \n",
      " 5   CustomerID   13 non-null     int64         \n",
      " 6   Total        13 non-null     float64       \n",
      "dtypes: datetime64[ns](1), float64(2), int64(3), object(1)\n",
      "memory usage: 856.0+ bytes\n"
     ]
    }
   ],
   "source": [
    "df= pd.read_csv(\"Online_Retail_Try4.csv\", encoding = 'unicode_escape')\n",
    "\n",
    "#Display all results in the same cell\n",
    "from IPython.core.interactiveshell import InteractiveShell\n",
    "InteractiveShell.ast_node_interactivity = \"all\"\n",
    "\n",
    "df[\"InvoiceDate\"] = pd.to_datetime(df[\"InvoiceDate\"])\n",
    "df.head(5)\n",
    "df.shape\n",
    "df.describe()\n",
    "df.Product.unique()\n",
    "df.Product.value_counts()\n",
    "df.isnull().any() # False means no missing values\n",
    "df.info()  #categorical variable (object)"
   ]
  },
  {
   "cell_type": "code",
   "execution_count": 3,
   "metadata": {},
   "outputs": [],
   "source": [
    "df.sort_values(by=['CustomerID','InvoiceDate'], inplace=True)"
   ]
  },
  {
   "cell_type": "code",
   "execution_count": 4,
   "metadata": {},
   "outputs": [],
   "source": [
    "df['same_invoice'] = df['InvoiceID'] == df['InvoiceID'].shift(-1)"
   ]
  },
  {
   "cell_type": "code",
   "execution_count": 142,
   "metadata": {},
   "outputs": [
    {
     "name": "stderr",
     "output_type": "stream",
     "text": [
      "<ipython-input-142-0023f4f24785>:10: UserWarning: Boolean Series key will be reindexed to match DataFrame index.\n",
      "  df1 = df[df[\"CustomerID\"]==cus][df[\"Product\"] == i]\n",
      "<ipython-input-142-0023f4f24785>:11: UserWarning: Boolean Series key will be reindexed to match DataFrame index.\n",
      "  df2 = df[df[\"CustomerID\"]==cus][df[\"Product\"] == j]\n"
     ]
    }
   ],
   "source": [
    "products = [\"A\", \"B\", \"C\"]\n",
    "table = {}\n",
    "table_pair = []\n",
    "\n",
    "for cus in set(df['CustomerID']):\n",
    "    lead_time = []\n",
    "    products_pair = []\n",
    "    for i in products :\n",
    "        for j in products :\n",
    "            df1 = df[df[\"CustomerID\"]==cus][df[\"Product\"] == i]\n",
    "            df2 = df[df[\"CustomerID\"]==cus][df[\"Product\"] == j]\n",
    "            if(len(df1)>0 and len(df2)>0):\n",
    "                merged_df = pd.merge(df1, df2, on=\"CustomerID\", suffixes=(\"_1\"+i, \"_2\"+j))\n",
    "                merged_df['lead_time'] = merged_df.apply(lambda x: x[\"InvoiceDate_1\"+i]- x[\"InvoiceDate_2\"+j],axis=1).dt.days\n",
    "                merged_df = merged_df[merged_df[\"lead_time\"] > 0]\n",
    "                average_lead_time = merged_df[\"lead_time\"].mean()\n",
    "                lead_time.append(average_lead_time)\n",
    "                products_pair.append(j + \" to \" +i)\n",
    "                    \n",
    "            else:\n",
    "                lead_time.append(None)\n",
    "                products_pair.append(j + \" to \" +i)\n",
    "                    \n",
    "    table_pair.append(products_pair)       \n",
    "    table[cus] =  lead_time\n",
    "\n",
    "\n",
    "table_final = pd.DataFrame.from_dict(table).T\n",
    "table_final.columns =  table_pair[0]\n",
    "table_final['CustomerID'] = table_final.index"
   ]
  },
  {
   "cell_type": "code",
   "execution_count": 143,
   "metadata": {},
   "outputs": [
    {
     "data": {
      "text/html": [
       "<div>\n",
       "<style scoped>\n",
       "    .dataframe tbody tr th:only-of-type {\n",
       "        vertical-align: middle;\n",
       "    }\n",
       "\n",
       "    .dataframe tbody tr th {\n",
       "        vertical-align: top;\n",
       "    }\n",
       "\n",
       "    .dataframe thead th {\n",
       "        text-align: right;\n",
       "    }\n",
       "</style>\n",
       "<table border=\"1\" class=\"dataframe\">\n",
       "  <thead>\n",
       "    <tr style=\"text-align: right;\">\n",
       "      <th></th>\n",
       "      <th>A to A</th>\n",
       "      <th>B to A</th>\n",
       "      <th>C to A</th>\n",
       "      <th>A to B</th>\n",
       "      <th>B to B</th>\n",
       "      <th>C to B</th>\n",
       "      <th>A to C</th>\n",
       "      <th>B to C</th>\n",
       "      <th>C to C</th>\n",
       "      <th>CustomerID</th>\n",
       "    </tr>\n",
       "  </thead>\n",
       "  <tbody>\n",
       "    <tr>\n",
       "      <th>1</th>\n",
       "      <td>8.0</td>\n",
       "      <td>7.666667</td>\n",
       "      <td>7.666667</td>\n",
       "      <td>4.5</td>\n",
       "      <td>8.0</td>\n",
       "      <td>8.0</td>\n",
       "      <td>4.5</td>\n",
       "      <td>8.0</td>\n",
       "      <td>8.0</td>\n",
       "      <td>1</td>\n",
       "    </tr>\n",
       "    <tr>\n",
       "      <th>2</th>\n",
       "      <td>NaN</td>\n",
       "      <td>NaN</td>\n",
       "      <td>7.000000</td>\n",
       "      <td>NaN</td>\n",
       "      <td>NaN</td>\n",
       "      <td>NaN</td>\n",
       "      <td>NaN</td>\n",
       "      <td>NaN</td>\n",
       "      <td>NaN</td>\n",
       "      <td>2</td>\n",
       "    </tr>\n",
       "    <tr>\n",
       "      <th>3</th>\n",
       "      <td>NaN</td>\n",
       "      <td>NaN</td>\n",
       "      <td>NaN</td>\n",
       "      <td>NaN</td>\n",
       "      <td>NaN</td>\n",
       "      <td>NaN</td>\n",
       "      <td>NaN</td>\n",
       "      <td>NaN</td>\n",
       "      <td>NaN</td>\n",
       "      <td>3</td>\n",
       "    </tr>\n",
       "    <tr>\n",
       "      <th>4</th>\n",
       "      <td>NaN</td>\n",
       "      <td>NaN</td>\n",
       "      <td>NaN</td>\n",
       "      <td>NaN</td>\n",
       "      <td>NaN</td>\n",
       "      <td>NaN</td>\n",
       "      <td>NaN</td>\n",
       "      <td>NaN</td>\n",
       "      <td>NaN</td>\n",
       "      <td>4</td>\n",
       "    </tr>\n",
       "  </tbody>\n",
       "</table>\n",
       "</div>"
      ],
      "text/plain": [
       "   A to A    B to A    C to A  A to B  B to B  C to B  A to C  B to C  C to C  \\\n",
       "1     8.0  7.666667  7.666667     4.5     8.0     8.0     4.5     8.0     8.0   \n",
       "2     NaN       NaN  7.000000     NaN     NaN     NaN     NaN     NaN     NaN   \n",
       "3     NaN       NaN       NaN     NaN     NaN     NaN     NaN     NaN     NaN   \n",
       "4     NaN       NaN       NaN     NaN     NaN     NaN     NaN     NaN     NaN   \n",
       "\n",
       "   CustomerID  \n",
       "1           1  \n",
       "2           2  \n",
       "3           3  \n",
       "4           4  "
      ]
     },
     "execution_count": 143,
     "metadata": {},
     "output_type": "execute_result"
    }
   ],
   "source": [
    "table_final"
   ]
  },
  {
   "cell_type": "code",
   "execution_count": null,
   "metadata": {},
   "outputs": [],
   "source": []
  },
  {
   "cell_type": "code",
   "execution_count": null,
   "metadata": {},
   "outputs": [],
   "source": []
  },
  {
   "cell_type": "code",
   "execution_count": null,
   "metadata": {},
   "outputs": [],
   "source": []
  }
 ],
 "metadata": {
  "kernelspec": {
   "display_name": "Python 3",
   "language": "python",
   "name": "python3"
  },
  "language_info": {
   "codemirror_mode": {
    "name": "ipython",
    "version": 3
   },
   "file_extension": ".py",
   "mimetype": "text/x-python",
   "name": "python",
   "nbconvert_exporter": "python",
   "pygments_lexer": "ipython3",
   "version": "3.8.3"
  }
 },
 "nbformat": 4,
 "nbformat_minor": 4
}
